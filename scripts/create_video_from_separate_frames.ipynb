{
 "cells": [
  {
   "cell_type": "markdown",
   "id": "29ad3e07-9136-451e-a654-a6221dbd015e",
   "metadata": {},
   "source": [
    "# Create video from frames\n",
    "This notebook combines segmentation labels and an image to show how well "
   ]
  },
  {
   "cell_type": "code",
   "execution_count": 19,
   "id": "9201864b-2819-47c0-be43-c43ab0f51ff2",
   "metadata": {
    "tags": []
   },
   "outputs": [],
   "source": [
    "import matplotlib.pyplot as plt\n",
    "import numpy as np\n",
    "import math\n",
    "from PIL import Image\n",
    "import cv2\n",
    "import skimage\n",
    "from skimage.color import label2rgb\n",
    "import tifffile as tf\n",
    "import os\n",
    "import pandas as pd\n",
    "\n",
    "#import napari\n",
    "#print(napari.__version__)\n",
    "\n",
    "import io\n",
    "import useful_functions as uf\n",
    "#import numba_funcs as nf\n"
   ]
  },
  {
   "cell_type": "code",
   "execution_count": 20,
   "id": "1cd7a041-1f79-4862-ab52-90a391ae2002",
   "metadata": {
    "tags": []
   },
   "outputs": [],
   "source": [
    "from functools import partial\n",
    "from copy import deepcopy\n",
    "from tqdm import trange, tqdm\n",
    "from numba import njit, jit, prange\n",
    "#from microfilm import colorify #the pip version seems to be out of date\n",
    "from datetime import datetime\n",
    "from importlib import reload\n",
    "from matplotlib_scalebar.scalebar import ScaleBar"
   ]
  },
  {
   "cell_type": "code",
   "execution_count": 21,
   "id": "3505ec79-998e-4ab6-b927-23e300b5c9e6",
   "metadata": {
    "tags": []
   },
   "outputs": [],
   "source": [
    "# you may need to comment in the following line if you do not have moviepy installed\n",
    "# !pip install moviepy\n",
    "import moviepy\n",
    "from moviepy.video.io.ImageSequenceClip import ImageSequenceClip"
   ]
  },
  {
   "cell_type": "code",
   "execution_count": 22,
   "id": "60092861-3b71-4e96-8c18-9709e68d7d97",
   "metadata": {
    "tags": []
   },
   "outputs": [],
   "source": [
    "mycolors = uf.return_color_scale('block_colors_for_labels_against_gray',\n",
    "                     show=False)*1000\n",
    "mycolors[0] = 'black'"
   ]
  },
  {
   "cell_type": "code",
   "execution_count": 23,
   "id": "8e9e2c37-9284-45aa-996a-e3b4c640295e",
   "metadata": {
    "tags": []
   },
   "outputs": [],
   "source": [
    "@njit\n",
    "def get_edges_of_cluster_shapes_with_image_edges_int_output(intlabels, rgblabels, k = 2):\n",
    "    \"\"\"\n",
    "    This function takes labels in two formats and returns the \n",
    "    label edges as a k-pixel edge image\n",
    "\n",
    "    Parameters\n",
    "    ----------\n",
    "    intlabels : numpy array of ints with bg=0\n",
    "        Labels in the format of an image with a different int for\n",
    "        each label\n",
    "    rgblabels : numpy array of floats RGB\n",
    "        after from skimage.color import label2rgb has been called \n",
    "        on intlabels, with no image behind it\n",
    "    k : int\n",
    "        k is basically the thickness of the edging\n",
    "\n",
    "    Returns\n",
    "    -------\n",
    "    output_edges \n",
    "        the image of output edges between the labels as int output\n",
    "\n",
    "    \"\"\"\n",
    "    \n",
    "    shape = intlabels.shape\n",
    "    output_edges = np.zeros(shape, intlabels.dtype)\n",
    "    for i in range(shape[0]):\n",
    "        for j in range(shape[1]):\n",
    "            this_val = intlabels[i,j]\n",
    "            if this_val == 0:\n",
    "                continue\n",
    "            else:\n",
    "                if i<k or shape[0]-i<k or j<k or shape[1]-j<k:\n",
    "                    output_edges[i,j] = intlabels[i,j]\n",
    "                else:\n",
    "                    compare_array = intlabels[i-k:i+k+1,j-k:j+k+1]\n",
    "                    allsame = np.all(compare_array == this_val)\n",
    "                    \n",
    "                    if allsame:\n",
    "                        continue\n",
    "                    else:\n",
    "                        output_edges[i,j] = intlabels[i,j]\n",
    "    return output_edges"
   ]
  },
  {
   "cell_type": "code",
   "execution_count": 24,
   "id": "ad5b6f06-9fac-4480-beb4-2585bee19dd0",
   "metadata": {
    "tags": []
   },
   "outputs": [],
   "source": [
    "@njit\n",
    "def convert_rgb_to_rgba(img, transparent=np.array([0.,0.,0.]), transparency_val = int(1)):\n",
    "    \"\"\"\n",
    "    Converts rgb to rgba while setting exactly one colur to fully transparent\n",
    "    and preserving the rest.\n",
    "    \n",
    "    There is a useful func version of this that just sets one transparency\n",
    "    \n",
    "        To display properly with napari, you will also need to run\n",
    "    convert_rgb_to_rgba, with \n",
    "     transparent=np.array([0,0,0]), transparency_val = int(255)\n",
    "     Then blending translucent\n",
    "          Showing stuff clearly on napari also seems to require the background \n",
    "     to be =1 not =0\n",
    "\n",
    "    Parameters\n",
    "    ----------\n",
    "    img : numpy array (of floats i think, rgb)\n",
    "        DESCRIPTION.\n",
    "    transparent : numpy array of a 3 vec rgb, optional\n",
    "        This is the colour which becomes transparent\n",
    "        The default is np.array([0.,0.,0.]), which is black.\n",
    "    transparency_val is for the non-transparent values\n",
    "\n",
    "    Returns\n",
    "    -------\n",
    "    rgba_image : numpy array like img \n",
    "        RGBA version of img\n",
    "\n",
    "    \"\"\"\n",
    "    shape = img.shape\n",
    "    rgba_image = np.zeros((shape[0], shape[1], 4), img.dtype)\n",
    "    for i in range(shape[0]):\n",
    "        for j in range(shape[1]):\n",
    "            if np.array_equal(img[i,j], transparent):\n",
    "                rgba_image[i,j, 0:4] = 0\n",
    "            else:\n",
    "                rgba_image[i,j, 0:3] = img[i,j]\n",
    "                rgba_image[i,j,3] = transparency_val\n",
    "    return rgba_image"
   ]
  },
  {
   "cell_type": "code",
   "execution_count": null,
   "id": "77ec0915-1ded-4b13-8904-27eee63986f7",
   "metadata": {
    "tags": []
   },
   "outputs": [],
   "source": [
    "filepath_in = os.path.abspath('../MorphoDynamicsPipe/1_data/fieldofview1/')\n",
    "filenames_in = os.listdir(filepath_in)\n",
    "filenames_in.sort(key=partial(uf.getvaluefromstringbest, variable='_T=', preceding='', ending='.', mydtype=int))\n",
    "filenames_in[0:4]\n",
    "\n",
    "filepath_in_labels = filepath_in.replace('1_data', '3c_tracking_images_filtered')\n",
    "filepath_in_labels"
   ]
  },
  {
   "cell_type": "code",
   "execution_count": 26,
   "id": "2b3f8f26-bde1-41aa-8d5b-51cb382e6f05",
   "metadata": {
    "tags": []
   },
   "outputs": [],
   "source": [
    "directory_frames = 'frames/'\n",
    "os.makedirs(directory_frames, exist_ok=True)"
   ]
  },
  {
   "cell_type": "code",
   "execution_count": null,
   "id": "ac70c640-7834-437f-ac82-6d52673d9071",
   "metadata": {
    "tags": []
   },
   "outputs": [],
   "source": [
    "for this_filename in tqdm(filenames_in):\n",
    "    im = skimage.io.imread(os.path.join(filepath_in, this_filename))\n",
    "    labels = skimage.io.imread(os.path.join(filepath_in_labels, this_filename))\n",
    "    outlines = get_edges_of_cluster_shapes_with_image_edges_int_output(labels, label2rgb(labels), k=2) \n",
    "\n",
    "    x = skimage.util.img_as_ubyte(uf.label2rgb_with_dict(labels, mycolors))\n",
    "    y = convert_rgb_to_rgba(x, transparent = np.array([0,0,0], dtype=np.uint8), transparency_val=255)\n",
    "\n",
    "    x2 = skimage.util.img_as_ubyte(uf.label2rgb_with_dict(outlines, mycolors))\n",
    "    y2 = convert_rgb_to_rgba(x2, transparent = np.array([0,0,0], dtype=np.uint8), transparency_val=255)\n",
    "\n",
    "    plt.imshow(im, cmap='Greys_r', vmax=50)\n",
    "    plt.imshow(y, alpha=0.2, interpolation='none')\n",
    "    plt.imshow(y2, alpha=1, interpolation='none')\n",
    "\n",
    "    plt.axis('off')\n",
    "    scalebar = ScaleBar(0.57, \"um\", fixed_value=20, location='lower right',\n",
    "                       font_properties={\"size\": 4})\n",
    "    plt.gca().add_artist(scalebar)\n",
    "    \n",
    "    plt.savefig(os.path.join(directory_frames, this_filename),\n",
    "               dpi=300, bbox_inches='tight', pad_inches=0)\n",
    "\n",
    "    plt.show()\n",
    "    \n",
    "#    break"
   ]
  },
  {
   "cell_type": "markdown",
   "id": "8286c31c-8dc3-4fad-959f-bf5d887e4470",
   "metadata": {},
   "source": [
    "# Convert to video"
   ]
  },
  {
   "cell_type": "code",
   "execution_count": null,
   "id": "925d9498-52dd-48dc-9ba5-c02c3c1db737",
   "metadata": {
    "tags": []
   },
   "outputs": [],
   "source": [
    "filename_out = 'video_output.avi'"
   ]
  },
  {
   "cell_type": "code",
   "execution_count": null,
   "id": "7d88d246-0fa1-4119-b1ca-e588a53bbc7a",
   "metadata": {
    "tags": []
   },
   "outputs": [],
   "source": [
    "filenames_in = os.listdir(directory_frames)\n",
    "filenames_in.sort(key=partial(uf.getvaluefromstringbest, variable='_T=', preceding='', ending='.', mydtype=int))\n",
    "fullpaths = [os.path.join(directory_frames, file) for file in filenames_in]\n",
    "fullpaths[0:2]"
   ]
  },
  {
   "cell_type": "code",
   "execution_count": null,
   "id": "bf082c3f-f8b5-4e39-8926-12813384bf9d",
   "metadata": {
    "tags": []
   },
   "outputs": [],
   "source": [
    "#clip = ImageSequenceClip(list_of_images, fps=5)\n",
    "clip = ImageSequenceClip(fullpaths, fps=2)"
   ]
  },
  {
   "cell_type": "code",
   "execution_count": null,
   "id": "43cb63f5-f75e-45ad-8b10-8dfd4e232776",
   "metadata": {
    "tags": []
   },
   "outputs": [],
   "source": [
    "clip.write_videofile(filename_out.replace('.avi', '.avi'), codec='png')\n",
    "#clip.write_videofile(directory_out + filename_out.replace('.avi', '.mp4'), codec='mpeg4')"
   ]
  }
 ],
 "metadata": {
  "kernelspec": {
   "display_name": "Python [conda env:miniforge3-movie1]",
   "language": "python",
   "name": "conda-env-miniforge3-movie1-py"
  },
  "language_info": {
   "codemirror_mode": {
    "name": "ipython",
    "version": 3
   },
   "file_extension": ".py",
   "mimetype": "text/x-python",
   "name": "python",
   "nbconvert_exporter": "python",
   "pygments_lexer": "ipython3",
   "version": "3.11.9"
  }
 },
 "nbformat": 4,
 "nbformat_minor": 5
}
